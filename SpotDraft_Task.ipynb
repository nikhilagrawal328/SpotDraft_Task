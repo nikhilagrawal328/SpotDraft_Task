{
 "cells": [
  {
   "cell_type": "markdown",
   "metadata": {},
   "source": [
    "## Task-1"
   ]
  },
  {
   "cell_type": "markdown",
   "metadata": {},
   "source": [
    "### Importing Libraries"
   ]
  },
  {
   "cell_type": "code",
   "execution_count": 65,
   "metadata": {},
   "outputs": [],
   "source": [
    "import os\n",
    "import pandas as pd\n",
    "import numpy as np\n",
    "from os import walk\n",
    "import re\n",
    "from sklearn.model_selection import train_test_split\n",
    "from sklearn.ensemble import RandomForestClassifier\n",
    "from sklearn.metrics import accuracy_score\n",
    "from sklearn.preprocessing import OneHotEncoder\n",
    "from keras.layers.core import  Activation, Dropout\n",
    "from keras.preprocessing import sequence\n",
    "from keras.layers import LSTM\n",
    "from keras.models import Sequential\n",
    "from keras.layers import Dense, Embedding\n",
    "from keras.wrappers.scikit_learn import KerasClassifier\n",
    "from sklearn.model_selection import cross_val_score\n",
    "from sklearn.preprocessing import LabelEncoder\n",
    "from sklearn.model_selection import StratifiedKFold\n",
    "from sklearn.preprocessing import StandardScaler\n",
    "from sklearn.pipeline import Pipeline"
   ]
  },
  {
   "cell_type": "markdown",
   "metadata": {},
   "source": [
    "## Predicting Gender using RandomForest Classifier"
   ]
  },
  {
   "cell_type": "markdown",
   "metadata": {},
   "source": [
    "### Data Loading"
   ]
  },
  {
   "cell_type": "code",
   "execution_count": 2,
   "metadata": {
    "collapsed": true
   },
   "outputs": [],
   "source": [
    "data=pd.read_csv('G:/Spotdraft/blac_fem/Black-Female-Names.csv')\n",
    "data['name']= data[[' first name', 'last name']].apply(lambda x: ' '.join(x), axis=1)\n",
    "data.drop('last name',axis=1,inplace=True)\n",
    "data.drop(' first name',axis=1,inplace=True)\n"
   ]
  },
  {
   "cell_type": "code",
   "execution_count": 3,
   "metadata": {
    "collapsed": true
   },
   "outputs": [],
   "source": [
    "data1=pd.read_csv('G:/Spotdraft/blac_mal/Black-Male-Names.csv')\n",
    "data1['name']= data1[['first name', 'last name']].apply(lambda x: ' '.join(x), axis=1)\n",
    "data1.drop('last name',axis=1,inplace=True)\n",
    "data1.drop('first name',axis=1,inplace=True)"
   ]
  },
  {
   "cell_type": "code",
   "execution_count": 4,
   "metadata": {
    "collapsed": true
   },
   "outputs": [],
   "source": [
    "data2=pd.read_csv('G:/Spotdraft/his_fem/Hispanic-Female-Names.csv')\n",
    "data2['name']= data2[[' first name', 'last name']].apply(lambda x: ' '.join(x), axis=1)\n",
    "data2.drop('last name',axis=1,inplace=True)\n",
    "data2.drop(' first name',axis=1,inplace=True)\n"
   ]
  },
  {
   "cell_type": "code",
   "execution_count": 5,
   "metadata": {
    "collapsed": true
   },
   "outputs": [],
   "source": [
    "data3=pd.read_csv('G:/Spotdraft/his_mal/Hispanic-Male-Names.csv')\n",
    "data3['name']= data3[['first name', 'last name']].apply(lambda x: ' '.join(x), axis=1)\n",
    "data3.drop('last name',axis=1,inplace=True)\n",
    "data3.drop('first name',axis=1,inplace=True)\n"
   ]
  },
  {
   "cell_type": "code",
   "execution_count": 6,
   "metadata": {
    "collapsed": true
   },
   "outputs": [],
   "source": [
    "data4=pd.read_csv('G:/Spotdraft/whi_fem/White-Female-Names.csv')\n",
    "data4['name']= data4[[' first name', 'last name']].apply(lambda x: ''.join(x), axis=1)\n",
    "data4.drop('last name',axis=1,inplace=True)\n",
    "data4.drop(' first name',axis=1,inplace=True)"
   ]
  },
  {
   "cell_type": "code",
   "execution_count": 7,
   "metadata": {
    "collapsed": true
   },
   "outputs": [],
   "source": [
    "data5=pd.read_csv('G:/Spotdraft/whi_mal/White-Male-Names.csv')\n",
    "data5['name']= data5[[' first name', 'last name']].apply(lambda x: ''.join(x), axis=1)\n",
    "data5.drop('last name',axis=1,inplace=True)\n",
    "data5.drop(' first name',axis=1,inplace=True)"
   ]
  },
  {
   "cell_type": "code",
   "execution_count": 39,
   "metadata": {},
   "outputs": [],
   "source": [
    "data6=pd.read_csv('G:/Spotdraft/ind_mal/Indian-Male-Names.csv')"
   ]
  },
  {
   "cell_type": "code",
   "execution_count": 9,
   "metadata": {
    "collapsed": true
   },
   "outputs": [],
   "source": [
    "data6 = data6[['gender', 'race', 'name']]"
   ]
  },
  {
   "cell_type": "code",
   "execution_count": 10,
   "metadata": {
    "collapsed": true
   },
   "outputs": [],
   "source": [
    "data7=pd.read_csv('G:/Spotdraft/ind_fem/Indian-Female-Names.csv')\n",
    "data7 = data7[['gender', 'race', 'name']]"
   ]
  },
  {
   "cell_type": "code",
   "execution_count": null,
   "metadata": {
    "collapsed": true
   },
   "outputs": [],
   "source": [
    "new_data = data.append([data1, data2, data3, data4,data5,data6,data7])"
   ]
  },
  {
   "cell_type": "code",
   "execution_count": 265,
   "metadata": {},
   "outputs": [
    {
     "data": {
      "text/plain": [
       "(120721, 3)"
      ]
     },
     "execution_count": 265,
     "metadata": {},
     "output_type": "execute_result"
    }
   ],
   "source": [
    "new_data.shape"
   ]
  },
  {
   "cell_type": "code",
   "execution_count": 266,
   "metadata": {},
   "outputs": [
    {
     "data": {
      "text/html": [
       "<div>\n",
       "<style>\n",
       "    .dataframe thead tr:only-child th {\n",
       "        text-align: right;\n",
       "    }\n",
       "\n",
       "    .dataframe thead th {\n",
       "        text-align: left;\n",
       "    }\n",
       "\n",
       "    .dataframe tbody tr th {\n",
       "        vertical-align: top;\n",
       "    }\n",
       "</style>\n",
       "<table border=\"1\" class=\"dataframe\">\n",
       "  <thead>\n",
       "    <tr style=\"text-align: right;\">\n",
       "      <th></th>\n",
       "      <th>gender</th>\n",
       "      <th>name</th>\n",
       "      <th>race</th>\n",
       "    </tr>\n",
       "  </thead>\n",
       "  <tbody>\n",
       "    <tr>\n",
       "      <th>0</th>\n",
       "      <td>f</td>\n",
       "      <td>manisha</td>\n",
       "      <td>indian</td>\n",
       "    </tr>\n",
       "    <tr>\n",
       "      <th>1</th>\n",
       "      <td>m</td>\n",
       "      <td>paul dschuman</td>\n",
       "      <td>white</td>\n",
       "    </tr>\n",
       "    <tr>\n",
       "      <th>2</th>\n",
       "      <td>m</td>\n",
       "      <td>saruf</td>\n",
       "      <td>indian</td>\n",
       "    </tr>\n",
       "    <tr>\n",
       "      <th>3</th>\n",
       "      <td>f</td>\n",
       "      <td>kanchan</td>\n",
       "      <td>indian</td>\n",
       "    </tr>\n",
       "    <tr>\n",
       "      <th>4</th>\n",
       "      <td>m</td>\n",
       "      <td>ruben  berrios</td>\n",
       "      <td>white</td>\n",
       "    </tr>\n",
       "  </tbody>\n",
       "</table>\n",
       "</div>"
      ],
      "text/plain": [
       "  gender             name    race\n",
       "0      f          manisha  indian\n",
       "1      m    paul dschuman   white\n",
       "2      m            saruf  indian\n",
       "3      f          kanchan  indian\n",
       "4      m   ruben  berrios   white"
      ]
     },
     "execution_count": 266,
     "metadata": {},
     "output_type": "execute_result"
    }
   ],
   "source": [
    "new_data.head()"
   ]
  },
  {
   "cell_type": "markdown",
   "metadata": {},
   "source": [
    "### Data Preprocessing"
   ]
  },
  {
   "cell_type": "code",
   "execution_count": 23,
   "metadata": {},
   "outputs": [
    {
     "name": "stdout",
     "output_type": "stream",
     "text": [
      "<class 'pandas.core.frame.DataFrame'>\n",
      "Int64Index: 120777 entries, 0 to 15381\n",
      "Data columns (total 3 columns):\n",
      "gender    120777 non-null object\n",
      "name      120722 non-null object\n",
      "race      120777 non-null object\n",
      "dtypes: object(3)\n",
      "memory usage: 6.2+ MB\n"
     ]
    }
   ],
   "source": [
    "new_data.info()"
   ]
  },
  {
   "cell_type": "code",
   "execution_count": 25,
   "metadata": {},
   "outputs": [],
   "source": [
    "new_data.dropna(inplace=True)"
   ]
  },
  {
   "cell_type": "code",
   "execution_count": 29,
   "metadata": {},
   "outputs": [],
   "source": [
    "new_data = new_data.sample(frac=1).reset_index(drop=True) #shuffling the data"
   ]
  },
  {
   "cell_type": "code",
   "execution_count": 33,
   "metadata": {},
   "outputs": [
    {
     "data": {
      "text/plain": [
       "white       48648\n",
       "black       37518\n",
       "indian      30172\n",
       "hispanic     4383\n",
       "Name: race, dtype: int64"
      ]
     },
     "execution_count": 33,
     "metadata": {},
     "output_type": "execute_result"
    }
   ],
   "source": [
    "new_data.race.value_counts()"
   ]
  },
  {
   "cell_type": "code",
   "execution_count": 32,
   "metadata": {
    "collapsed": true
   },
   "outputs": [],
   "source": [
    "new_data=new_data[new_data.race!='b']"
   ]
  },
  {
   "cell_type": "code",
   "execution_count": 34,
   "metadata": {},
   "outputs": [
    {
     "data": {
      "text/plain": [
       "m    98115\n",
       "f    22606\n",
       "Name: gender, dtype: int64"
      ]
     },
     "execution_count": 34,
     "metadata": {},
     "output_type": "execute_result"
    }
   ],
   "source": [
    "new_data.gender.value_counts()"
   ]
  },
  {
   "cell_type": "code",
   "execution_count": 270,
   "metadata": {},
   "outputs": [
    {
     "data": {
      "text/plain": [
       "(104192, 3)"
      ]
     },
     "execution_count": 270,
     "metadata": {},
     "output_type": "execute_result"
    }
   ],
   "source": [
    "# Data Duplication removal\n",
    "final=new_data.drop_duplicates(subset={\"name\",\"race\",\"gender\"}, keep='first', inplace=False)\n",
    "final.shape"
   ]
  },
  {
   "cell_type": "code",
   "execution_count": 141,
   "metadata": {
    "collapsed": true
   },
   "outputs": [],
   "source": [
    "final_copy=final.copy()"
   ]
  },
  {
   "cell_type": "code",
   "execution_count": 172,
   "metadata": {
    "collapsed": true
   },
   "outputs": [],
   "source": [
    "def namePreprocess(x):\n",
    "    return re.sub('[^A-Za-z0-9]+', ' ', x) and re.sub(\"\\S*\\d\\S*\", \"\", x).strip()"
   ]
  },
  {
   "cell_type": "code",
   "execution_count": 173,
   "metadata": {},
   "outputs": [
    {
     "data": {
      "text/html": [
       "<div>\n",
       "<style>\n",
       "    .dataframe thead tr:only-child th {\n",
       "        text-align: right;\n",
       "    }\n",
       "\n",
       "    .dataframe thead th {\n",
       "        text-align: left;\n",
       "    }\n",
       "\n",
       "    .dataframe tbody tr th {\n",
       "        vertical-align: top;\n",
       "    }\n",
       "</style>\n",
       "<table border=\"1\" class=\"dataframe\">\n",
       "  <thead>\n",
       "    <tr style=\"text-align: right;\">\n",
       "      <th></th>\n",
       "      <th>gender</th>\n",
       "      <th>name</th>\n",
       "      <th>race</th>\n",
       "      <th>last_letter</th>\n",
       "      <th>second_last_character</th>\n",
       "      <th>n_letter</th>\n",
       "      <th>n_words</th>\n",
       "      <th>Gender Value</th>\n",
       "    </tr>\n",
       "  </thead>\n",
       "  <tbody>\n",
       "    <tr>\n",
       "      <th>0</th>\n",
       "      <td>f</td>\n",
       "      <td>manisha</td>\n",
       "      <td>0</td>\n",
       "      <td>1</td>\n",
       "      <td>8</td>\n",
       "      <td>7</td>\n",
       "      <td>1</td>\n",
       "      <td>1</td>\n",
       "    </tr>\n",
       "    <tr>\n",
       "      <th>1</th>\n",
       "      <td>m</td>\n",
       "      <td>paul dschuman</td>\n",
       "      <td>1</td>\n",
       "      <td>14</td>\n",
       "      <td>1</td>\n",
       "      <td>14</td>\n",
       "      <td>3</td>\n",
       "      <td>0</td>\n",
       "    </tr>\n",
       "    <tr>\n",
       "      <th>2</th>\n",
       "      <td>m</td>\n",
       "      <td>saruf</td>\n",
       "      <td>0</td>\n",
       "      <td>6</td>\n",
       "      <td>21</td>\n",
       "      <td>5</td>\n",
       "      <td>1</td>\n",
       "      <td>0</td>\n",
       "    </tr>\n",
       "    <tr>\n",
       "      <th>3</th>\n",
       "      <td>f</td>\n",
       "      <td>kanchan</td>\n",
       "      <td>0</td>\n",
       "      <td>14</td>\n",
       "      <td>1</td>\n",
       "      <td>7</td>\n",
       "      <td>1</td>\n",
       "      <td>1</td>\n",
       "    </tr>\n",
       "    <tr>\n",
       "      <th>4</th>\n",
       "      <td>m</td>\n",
       "      <td>ruben  berrios</td>\n",
       "      <td>1</td>\n",
       "      <td>19</td>\n",
       "      <td>15</td>\n",
       "      <td>15</td>\n",
       "      <td>4</td>\n",
       "      <td>0</td>\n",
       "    </tr>\n",
       "  </tbody>\n",
       "</table>\n",
       "</div>"
      ],
      "text/plain": [
       "  gender             name  race  last_letter  second_last_character  n_letter  \\\n",
       "0      f          manisha     0            1                      8         7   \n",
       "1      m    paul dschuman     1           14                      1        14   \n",
       "2      m            saruf     0            6                     21         5   \n",
       "3      f          kanchan     0           14                      1         7   \n",
       "4      m   ruben  berrios     1           19                     15        15   \n",
       "\n",
       "   n_words  Gender Value  \n",
       "0        1             1  \n",
       "1        3             0  \n",
       "2        1             0  \n",
       "3        1             1  \n",
       "4        4             0  "
      ]
     },
     "execution_count": 173,
     "metadata": {},
     "output_type": "execute_result"
    }
   ],
   "source": [
    "final['name'].map(namePreprocess)\n",
    "final.head()"
   ]
  },
  {
   "cell_type": "markdown",
   "metadata": {},
   "source": [
    "### Feature Engineering the data"
   ]
  },
  {
   "cell_type": "code",
   "execution_count": 144,
   "metadata": {
    "collapsed": true
   },
   "outputs": [],
   "source": [
    "def lastCharacter(x):\n",
    "    return ord(x[-1])-ord('a')+1\n",
    "def secondlastCharacter(x):\n",
    "    return ord(x[-2])-ord('a')+1\n",
    "def countletters(x):\n",
    "    return len(x)\n",
    "def countwords(x):\n",
    "    return len(x.split(' '))"
   ]
  },
  {
   "cell_type": "code",
   "execution_count": 145,
   "metadata": {},
   "outputs": [
    {
     "name": "stderr",
     "output_type": "stream",
     "text": [
      "C:\\Users\\abc\\Anaconda3\\lib\\site-packages\\ipykernel_launcher.py:1: SettingWithCopyWarning: \n",
      "A value is trying to be set on a copy of a slice from a DataFrame.\n",
      "Try using .loc[row_indexer,col_indexer] = value instead\n",
      "\n",
      "See the caveats in the documentation: http://pandas.pydata.org/pandas-docs/stable/indexing.html#indexing-view-versus-copy\n",
      "  \"\"\"Entry point for launching an IPython kernel.\n",
      "C:\\Users\\abc\\Anaconda3\\lib\\site-packages\\ipykernel_launcher.py:2: SettingWithCopyWarning: \n",
      "A value is trying to be set on a copy of a slice from a DataFrame.\n",
      "Try using .loc[row_indexer,col_indexer] = value instead\n",
      "\n",
      "See the caveats in the documentation: http://pandas.pydata.org/pandas-docs/stable/indexing.html#indexing-view-versus-copy\n",
      "  \n",
      "C:\\Users\\abc\\Anaconda3\\lib\\site-packages\\ipykernel_launcher.py:3: SettingWithCopyWarning: \n",
      "A value is trying to be set on a copy of a slice from a DataFrame.\n",
      "Try using .loc[row_indexer,col_indexer] = value instead\n",
      "\n",
      "See the caveats in the documentation: http://pandas.pydata.org/pandas-docs/stable/indexing.html#indexing-view-versus-copy\n",
      "  This is separate from the ipykernel package so we can avoid doing imports until\n",
      "C:\\Users\\abc\\Anaconda3\\lib\\site-packages\\ipykernel_launcher.py:4: SettingWithCopyWarning: \n",
      "A value is trying to be set on a copy of a slice from a DataFrame.\n",
      "Try using .loc[row_indexer,col_indexer] = value instead\n",
      "\n",
      "See the caveats in the documentation: http://pandas.pydata.org/pandas-docs/stable/indexing.html#indexing-view-versus-copy\n",
      "  after removing the cwd from sys.path.\n"
     ]
    }
   ],
   "source": [
    "final[\"last_letter\"] = final['name'].map(lastCharacter)\n",
    "final[\"second_last_character\"] = final['name'].map(secondlastCharacter)\n",
    "final[\"n_letter\"]=final['name'].map(countletters)\n",
    "final['n_words']=final['name'].map(countwords)"
   ]
  },
  {
   "cell_type": "code",
   "execution_count": 146,
   "metadata": {},
   "outputs": [
    {
     "data": {
      "text/html": [
       "<div>\n",
       "<style>\n",
       "    .dataframe thead tr:only-child th {\n",
       "        text-align: right;\n",
       "    }\n",
       "\n",
       "    .dataframe thead th {\n",
       "        text-align: left;\n",
       "    }\n",
       "\n",
       "    .dataframe tbody tr th {\n",
       "        vertical-align: top;\n",
       "    }\n",
       "</style>\n",
       "<table border=\"1\" class=\"dataframe\">\n",
       "  <thead>\n",
       "    <tr style=\"text-align: right;\">\n",
       "      <th></th>\n",
       "      <th>gender</th>\n",
       "      <th>name</th>\n",
       "      <th>race</th>\n",
       "      <th>last_letter</th>\n",
       "      <th>second_last_character</th>\n",
       "      <th>n_letter</th>\n",
       "      <th>n_words</th>\n",
       "    </tr>\n",
       "  </thead>\n",
       "  <tbody>\n",
       "    <tr>\n",
       "      <th>0</th>\n",
       "      <td>f</td>\n",
       "      <td>manisha</td>\n",
       "      <td>indian</td>\n",
       "      <td>1</td>\n",
       "      <td>8</td>\n",
       "      <td>7</td>\n",
       "      <td>1</td>\n",
       "    </tr>\n",
       "    <tr>\n",
       "      <th>1</th>\n",
       "      <td>m</td>\n",
       "      <td>paul dschuman</td>\n",
       "      <td>white</td>\n",
       "      <td>14</td>\n",
       "      <td>1</td>\n",
       "      <td>14</td>\n",
       "      <td>3</td>\n",
       "    </tr>\n",
       "    <tr>\n",
       "      <th>2</th>\n",
       "      <td>m</td>\n",
       "      <td>saruf</td>\n",
       "      <td>indian</td>\n",
       "      <td>6</td>\n",
       "      <td>21</td>\n",
       "      <td>5</td>\n",
       "      <td>1</td>\n",
       "    </tr>\n",
       "    <tr>\n",
       "      <th>3</th>\n",
       "      <td>f</td>\n",
       "      <td>kanchan</td>\n",
       "      <td>indian</td>\n",
       "      <td>14</td>\n",
       "      <td>1</td>\n",
       "      <td>7</td>\n",
       "      <td>1</td>\n",
       "    </tr>\n",
       "    <tr>\n",
       "      <th>4</th>\n",
       "      <td>m</td>\n",
       "      <td>ruben  berrios</td>\n",
       "      <td>white</td>\n",
       "      <td>19</td>\n",
       "      <td>15</td>\n",
       "      <td>15</td>\n",
       "      <td>4</td>\n",
       "    </tr>\n",
       "  </tbody>\n",
       "</table>\n",
       "</div>"
      ],
      "text/plain": [
       "  gender             name    race  last_letter  second_last_character  \\\n",
       "0      f          manisha  indian            1                      8   \n",
       "1      m    paul dschuman   white           14                      1   \n",
       "2      m            saruf  indian            6                     21   \n",
       "3      f          kanchan  indian           14                      1   \n",
       "4      m   ruben  berrios   white           19                     15   \n",
       "\n",
       "   n_letter  n_words  \n",
       "0         7        1  \n",
       "1        14        3  \n",
       "2         5        1  \n",
       "3         7        1  \n",
       "4        15        4  "
      ]
     },
     "execution_count": 146,
     "metadata": {},
     "output_type": "execute_result"
    }
   ],
   "source": [
    "final.head()"
   ]
  },
  {
   "cell_type": "code",
   "execution_count": 147,
   "metadata": {},
   "outputs": [
    {
     "name": "stderr",
     "output_type": "stream",
     "text": [
      "C:\\Users\\abc\\Anaconda3\\lib\\site-packages\\ipykernel_launcher.py:6: SettingWithCopyWarning: \n",
      "A value is trying to be set on a copy of a slice from a DataFrame.\n",
      "Try using .loc[row_indexer,col_indexer] = value instead\n",
      "\n",
      "See the caveats in the documentation: http://pandas.pydata.org/pandas-docs/stable/indexing.html#indexing-view-versus-copy\n",
      "  \n"
     ]
    }
   ],
   "source": [
    "def checkGender(gender):\n",
    "    if gender == \"m\":\n",
    "        return 0\n",
    "    return 1\n",
    "    \n",
    "final[\"Gender Value\"] = final[\"gender\"].map(checkGender)"
   ]
  },
  {
   "cell_type": "code",
   "execution_count": 61,
   "metadata": {},
   "outputs": [],
   "source": [
    "X=final[['last_letter','second_last_character','n_letter','n_words']]\n",
    "y=final['Gender Value']"
   ]
  },
  {
   "cell_type": "code",
   "execution_count": 63,
   "metadata": {
    "collapsed": true
   },
   "outputs": [],
   "source": [
    "Xtrain, Xtest, ytrain, ytest = train_test_split(X, y, test_size=0.33)"
   ]
  },
  {
   "cell_type": "code",
   "execution_count": 66,
   "metadata": {},
   "outputs": [
    {
     "data": {
      "text/plain": [
       "RandomForestClassifier(bootstrap=True, class_weight=None, criterion='gini',\n",
       "            max_depth=None, max_features='auto', max_leaf_nodes=None,\n",
       "            min_impurity_decrease=0.0, min_impurity_split=None,\n",
       "            min_samples_leaf=1, min_samples_split=20,\n",
       "            min_weight_fraction_leaf=0.0, n_estimators=150, n_jobs=1,\n",
       "            oob_score=False, random_state=None, verbose=0,\n",
       "            warm_start=False)"
      ]
     },
     "execution_count": 66,
     "metadata": {},
     "output_type": "execute_result"
    }
   ],
   "source": [
    "# Building a RandomForest classifier model\n",
    "clf = RandomForestClassifier(n_estimators=150, min_samples_split=20)\n",
    "clf.fit(Xtrain, ytrain)"
   ]
  },
  {
   "cell_type": "code",
   "execution_count": 105,
   "metadata": {},
   "outputs": [
    {
     "data": {
      "text/plain": [
       "0.90038391015356412"
      ]
     },
     "execution_count": 105,
     "metadata": {},
     "output_type": "execute_result"
    }
   ],
   "source": [
    "# accuracy on training data\n",
    "predictions = clf.predict(Xtrain)\n",
    "accuracy_score(ytrain, predictions)"
   ]
  },
  {
   "cell_type": "code",
   "execution_count": 67,
   "metadata": {},
   "outputs": [
    {
     "data": {
      "text/plain": [
       "0.8924208934388087"
      ]
     },
     "execution_count": 67,
     "metadata": {},
     "output_type": "execute_result"
    }
   ],
   "source": [
    "# accuracy on test data\n",
    "predictions = clf.predict(Xtest)\n",
    "accuracy_score(ytest, predictions)"
   ]
  },
  {
   "cell_type": "code",
   "execution_count": 157,
   "metadata": {
    "collapsed": true
   },
   "outputs": [],
   "source": [
    "def predict_gender(x):\n",
    "    d=dict()\n",
    "    d['last_letter']=ord(x[-1])-ord('a')+1\n",
    "    d['second_last_character']=ord(x[-2])-ord('a')+1\n",
    "    d['n_letter']=len(x)\n",
    "    d['n_words']=len(x.split(' '))\n",
    "    return pd.Series(d).reshape(1,-1)"
   ]
  },
  {
   "cell_type": "code",
   "execution_count": 113,
   "metadata": {},
   "outputs": [
    {
     "name": "stdout",
     "output_type": "stream",
     "text": [
      "0 - 76.0 %\n"
     ]
    },
    {
     "name": "stderr",
     "output_type": "stream",
     "text": [
      "C:\\Users\\abc\\Anaconda3\\lib\\site-packages\\ipykernel_launcher.py:7: FutureWarning: reshape is deprecated and will raise in a subsequent release. Please use .values.reshape(...) instead\n",
      "  import sys\n"
     ]
    }
   ],
   "source": [
    "x=predict_gender('Narendra Modi')\n",
    "#print(pd.Series(x))\n",
    "clas=clf.predict(x)\n",
    "dist=clf.predict_proba(x)\n",
    "x1=dist[0]\n",
    "m=x1[0]\n",
    "f=x1[1]\n",
    "maximum=max(m,f)*100\n",
    "\n",
    "print(clas[0],'-',round(maximum),'%' )"
   ]
  },
  {
   "cell_type": "markdown",
   "metadata": {},
   "source": [
    "## Predicting Gender using (LSTM)"
   ]
  },
  {
   "cell_type": "code",
   "execution_count": 219,
   "metadata": {
    "collapsed": true
   },
   "outputs": [],
   "source": [
    "X=final['name']\n",
    "Y=final['Gender Value']"
   ]
  },
  {
   "cell_type": "code",
   "execution_count": 276,
   "metadata": {
    "collapsed": true
   },
   "outputs": [],
   "source": [
    "# Converting full data into imdb format\n",
    "data = []\n",
    "for name in X:\n",
    "    \n",
    "    row = []\n",
    "    for char in name:\n",
    "        \n",
    "            row.append(ord(char))\n",
    "    data.append(row)"
   ]
  },
  {
   "cell_type": "code",
   "execution_count": 221,
   "metadata": {},
   "outputs": [
    {
     "data": {
      "text/plain": [
       "[109, 97, 110, 105, 115, 104, 97]"
      ]
     },
     "execution_count": 221,
     "metadata": {},
     "output_type": "execute_result"
    }
   ],
   "source": [
    "data[0]"
   ]
  },
  {
   "cell_type": "code",
   "execution_count": 222,
   "metadata": {
    "collapsed": true
   },
   "outputs": [],
   "source": [
    "X_train, X_test, Y_train, Y_test = train_test_split(data, Y, test_size=0.3, random_state=42)"
   ]
  },
  {
   "cell_type": "code",
   "execution_count": 223,
   "metadata": {},
   "outputs": [
    {
     "name": "stdout",
     "output_type": "stream",
     "text": [
      "[32, 108, 97, 114, 114, 121, 32, 32, 103, 114, 101, 103, 111, 114, 121]\n",
      "<class 'list'>\n",
      "15\n"
     ]
    }
   ],
   "source": [
    "print(X_train[2])\n",
    "print(type(X_train[1]))\n",
    "print(len(X_train[2]))"
   ]
  },
  {
   "cell_type": "code",
   "execution_count": 224,
   "metadata": {},
   "outputs": [
    {
     "name": "stdout",
     "output_type": "stream",
     "text": [
      "(72934, 30)\n",
      "[  0   0   0   0   0   0   0   0   0   0   0   0   0   0  32 112 101 100\n",
      " 114 111  32 106  32  32 110 105 101 118 101 115]\n"
     ]
    }
   ],
   "source": [
    "max_length = 30\n",
    "X_train = sequence.pad_sequences(X_train, maxlen=max_length)\n",
    "X_test = sequence.pad_sequences(X_test, maxlen=max_length)\n",
    "\n",
    "print(X_train.shape)\n",
    "\n",
    "print(X_train[1])"
   ]
  },
  {
   "cell_type": "code",
   "execution_count": 233,
   "metadata": {},
   "outputs": [
    {
     "name": "stderr",
     "output_type": "stream",
     "text": [
      "C:\\Users\\abc\\Anaconda3\\lib\\site-packages\\ipykernel_launcher.py:3: FutureWarning: reshape is deprecated and will raise in a subsequent release. Please use .values.reshape(...) instead\n",
      "  This is separate from the ipykernel package so we can avoid doing imports until\n",
      "C:\\Users\\abc\\Anaconda3\\lib\\site-packages\\ipykernel_launcher.py:4: FutureWarning: reshape is deprecated and will raise in a subsequent release. Please use .values.reshape(...) instead\n",
      "  after removing the cwd from sys.path.\n"
     ]
    }
   ],
   "source": [
    "X_train=X_train.reshape((72934,30,1))\n",
    "X_test=X_test.reshape((31258,30,1))\n",
    "Y_train=Y_train.reshape((72934,1))\n",
    "Y_test=Y_test.reshape((31258,1))                        "
   ]
  },
  {
   "cell_type": "code",
   "execution_count": 237,
   "metadata": {},
   "outputs": [
    {
     "name": "stdout",
     "output_type": "stream",
     "text": [
      "_________________________________________________________________\n",
      "Layer (type)                 Output Shape              Param #   \n",
      "=================================================================\n",
      "lstm_11 (LSTM)               (None, 30, 64)            16896     \n",
      "_________________________________________________________________\n",
      "dropout_11 (Dropout)         (None, 30, 64)            0         \n",
      "_________________________________________________________________\n",
      "lstm_12 (LSTM)               (None, 64)                33024     \n",
      "_________________________________________________________________\n",
      "dropout_12 (Dropout)         (None, 64)                0         \n",
      "_________________________________________________________________\n",
      "dense_10 (Dense)             (None, 2)                 130       \n",
      "_________________________________________________________________\n",
      "dense_11 (Dense)             (None, 1)                 3         \n",
      "=================================================================\n",
      "Total params: 50,053\n",
      "Trainable params: 50,053\n",
      "Non-trainable params: 0\n",
      "_________________________________________________________________\n",
      "None\n"
     ]
    }
   ],
   "source": [
    "model = Sequential()\n",
    "model.add(LSTM(64, return_sequences=True,input_shape=(30,1)))\n",
    "model.add(Dropout(0.4))\n",
    "model.add(LSTM(64, return_sequences=False))\n",
    "model.add(Dropout(0.4))\n",
    "model.add(Dense(2))\n",
    "model.add(Dense(1, activation='sigmoid'))\n",
    "model.compile(loss='binary_crossentropy', optimizer='adam', metrics=['accuracy'])\n",
    "print(model.summary())"
   ]
  },
  {
   "cell_type": "code",
   "execution_count": 238,
   "metadata": {},
   "outputs": [
    {
     "name": "stdout",
     "output_type": "stream",
     "text": [
      "Train on 72934 samples, validate on 31258 samples\n",
      "Epoch 1/10\n",
      "72934/72934 [==============================] - 461s 6ms/step - loss: 0.4118 - acc: 0.8454 - val_loss: 0.3576 - val_acc: 0.8676\n",
      "Epoch 2/10\n",
      "72934/72934 [==============================] - 143s 2ms/step - loss: 0.3541 - acc: 0.8642 - val_loss: 0.3417 - val_acc: 0.8679\n",
      "Epoch 3/10\n",
      "72934/72934 [==============================] - 127s 2ms/step - loss: 0.3462 - acc: 0.8645 - val_loss: 0.3412 - val_acc: 0.8681\n",
      "Epoch 4/10\n",
      "72934/72934 [==============================] - 123s 2ms/step - loss: 0.3450 - acc: 0.8650 - val_loss: 0.3407 - val_acc: 0.8677\n",
      "Epoch 5/10\n",
      "72934/72934 [==============================] - 124s 2ms/step - loss: 0.3437 - acc: 0.8659 - val_loss: 0.3400 - val_acc: 0.8673\n",
      "Epoch 6/10\n",
      "72934/72934 [==============================] - 124s 2ms/step - loss: 0.3432 - acc: 0.8654 - val_loss: 0.3393 - val_acc: 0.8674\n",
      "Epoch 7/10\n",
      "72934/72934 [==============================] - 124s 2ms/step - loss: 0.3427 - acc: 0.8651 - val_loss: 0.3382 - val_acc: 0.8679\n",
      "Epoch 8/10\n",
      "72934/72934 [==============================] - 124s 2ms/step - loss: 0.3413 - acc: 0.8653 - val_loss: 0.3366 - val_acc: 0.8677\n",
      "Epoch 9/10\n",
      "72934/72934 [==============================] - 124s 2ms/step - loss: 0.3402 - acc: 0.8658 - val_loss: 0.3354 - val_acc: 0.8680\n",
      "Epoch 10/10\n",
      "72934/72934 [==============================] - 124s 2ms/step - loss: 0.3387 - acc: 0.8662 - val_loss: 0.3339 - val_acc: 0.8696\n"
     ]
    }
   ],
   "source": [
    "hist=model.fit(X_train, Y_train, validation_data=(X_test, Y_test), epochs=10, batch_size=1000)"
   ]
  },
  {
   "cell_type": "code",
   "execution_count": 239,
   "metadata": {},
   "outputs": [
    {
     "name": "stdout",
     "output_type": "stream",
     "text": [
      "Accuracy: 86.96%\n"
     ]
    }
   ],
   "source": [
    "scores = model.evaluate(X_test, Y_test, verbose=0)\n",
    "print(\"Accuracy: %.2f%%\" % (scores[1]*100))"
   ]
  },
  {
   "cell_type": "code",
   "execution_count": 240,
   "metadata": {},
   "outputs": [
    {
     "data": {
      "image/png": "[encoded data removed]",
      "text/plain": [
       "<Figure size 720x360 with 1 Axes>"
      ]
     },
     "metadata": {},
     "output_type": "display_data"
    }
   ],
   "source": [
    "import matplotlib.pyplot as plt\n",
    "def plt_dynamic(x, vy, ty):\n",
    "  plt.figure(figsize=(10,5))\n",
    "  plt.plot(x, vy, 'b', label=\"Validation loss\")\n",
    "  plt.plot(x, ty, 'r', label=\"Train loss\")\n",
    "  plt.xlabel('Epochs') \n",
    "  plt.ylabel('Binary Crossentropy Loss')\n",
    "  plt.title('\\n Binary Crossentropy Loss VS Epochs')\n",
    "  plt.legend()\n",
    "  plt.grid()\n",
    "  plt.show()\n",
    "\n",
    "\n",
    "x = list(range(1,11))\n",
    "\n",
    "# Validation loss\n",
    "vy = hist.history['val_loss']\n",
    "# Training loss\n",
    "ty = hist.history['loss']\n",
    "\n",
    "# Calling the function to draw the plot\n",
    "plt_dynamic(x, vy, ty)"
   ]
  },
  {
   "cell_type": "markdown",
   "metadata": {},
   "source": [
    "## Predict race from a name using (LSTM)"
   ]
  },
  {
   "cell_type": "code",
   "execution_count": 267,
   "metadata": {
    "collapsed": true
   },
   "outputs": [],
   "source": [
    "def convertRace(x):\n",
    "    if x=='indian':\n",
    "        return 0\n",
    "    elif x=='white':\n",
    "        return 1\n",
    "    elif x=='black':\n",
    "        return 2\n",
    "    elif x=='hispanic':\n",
    "        return 3"
   ]
  },
  {
   "cell_type": "code",
   "execution_count": 272,
   "metadata": {},
   "outputs": [
    {
     "name": "stderr",
     "output_type": "stream",
     "text": [
      "C:\\Users\\abc\\Anaconda3\\lib\\site-packages\\ipykernel_launcher.py:1: SettingWithCopyWarning: \n",
      "A value is trying to be set on a copy of a slice from a DataFrame.\n",
      "Try using .loc[row_indexer,col_indexer] = value instead\n",
      "\n",
      "See the caveats in the documentation: http://pandas.pydata.org/pandas-docs/stable/indexing.html#indexing-view-versus-copy\n",
      "  \"\"\"Entry point for launching an IPython kernel.\n"
     ]
    }
   ],
   "source": [
    "final['race']=final['race'].map(convertRace)"
   ]
  },
  {
   "cell_type": "code",
   "execution_count": 273,
   "metadata": {},
   "outputs": [
    {
     "data": {
      "text/html": [
       "<div>\n",
       "<style>\n",
       "    .dataframe thead tr:only-child th {\n",
       "        text-align: right;\n",
       "    }\n",
       "\n",
       "    .dataframe thead th {\n",
       "        text-align: left;\n",
       "    }\n",
       "\n",
       "    .dataframe tbody tr th {\n",
       "        vertical-align: top;\n",
       "    }\n",
       "</style>\n",
       "<table border=\"1\" class=\"dataframe\">\n",
       "  <thead>\n",
       "    <tr style=\"text-align: right;\">\n",
       "      <th></th>\n",
       "      <th>gender</th>\n",
       "      <th>name</th>\n",
       "      <th>race</th>\n",
       "    </tr>\n",
       "  </thead>\n",
       "  <tbody>\n",
       "    <tr>\n",
       "      <th>0</th>\n",
       "      <td>f</td>\n",
       "      <td>manisha</td>\n",
       "      <td>0</td>\n",
       "    </tr>\n",
       "    <tr>\n",
       "      <th>1</th>\n",
       "      <td>m</td>\n",
       "      <td>paul dschuman</td>\n",
       "      <td>1</td>\n",
       "    </tr>\n",
       "    <tr>\n",
       "      <th>2</th>\n",
       "      <td>m</td>\n",
       "      <td>saruf</td>\n",
       "      <td>0</td>\n",
       "    </tr>\n",
       "    <tr>\n",
       "      <th>3</th>\n",
       "      <td>f</td>\n",
       "      <td>kanchan</td>\n",
       "      <td>0</td>\n",
       "    </tr>\n",
       "    <tr>\n",
       "      <th>4</th>\n",
       "      <td>m</td>\n",
       "      <td>ruben  berrios</td>\n",
       "      <td>1</td>\n",
       "    </tr>\n",
       "  </tbody>\n",
       "</table>\n",
       "</div>"
      ],
      "text/plain": [
       "  gender             name  race\n",
       "0      f          manisha     0\n",
       "1      m    paul dschuman     1\n",
       "2      m            saruf     0\n",
       "3      f          kanchan     0\n",
       "4      m   ruben  berrios     1"
      ]
     },
     "execution_count": 273,
     "metadata": {},
     "output_type": "execute_result"
    }
   ],
   "source": [
    "final.head()"
   ]
  },
  {
   "cell_type": "code",
   "execution_count": 274,
   "metadata": {},
   "outputs": [
    {
     "data": {
      "text/plain": [
       "1    48097\n",
       "2    36487\n",
       "0    15292\n",
       "3     4316\n",
       "Name: race, dtype: int64"
      ]
     },
     "execution_count": 274,
     "metadata": {},
     "output_type": "execute_result"
    }
   ],
   "source": [
    "final.race.value_counts()"
   ]
  },
  {
   "cell_type": "code",
   "execution_count": 321,
   "metadata": {
    "collapsed": true
   },
   "outputs": [],
   "source": [
    "X=final['name']\n",
    "Y=final['race']"
   ]
  },
  {
   "cell_type": "code",
   "execution_count": 313,
   "metadata": {},
   "outputs": [],
   "source": [
    "from keras.utils import np_utils\n",
    "Y = np_utils.to_categorical(Y)"
   ]
  },
  {
   "cell_type": "code",
   "execution_count": 322,
   "metadata": {
    "collapsed": true
   },
   "outputs": [],
   "source": [
    "X_train, X_test, Y_train, Y_test = train_test_split(data, Y, test_size=0.3, random_state=42)"
   ]
  },
  {
   "cell_type": "code",
   "execution_count": 323,
   "metadata": {},
   "outputs": [
    {
     "name": "stdout",
     "output_type": "stream",
     "text": [
      "[32, 108, 97, 114, 114, 121, 32, 32, 103, 114, 101, 103, 111, 114, 121]\n",
      "<class 'list'>\n",
      "15\n"
     ]
    }
   ],
   "source": [
    "print(X_train[2])\n",
    "print(type(X_train[1]))\n",
    "print(len(X_train[2]))"
   ]
  },
  {
   "cell_type": "code",
   "execution_count": 325,
   "metadata": {},
   "outputs": [
    {
     "name": "stdout",
     "output_type": "stream",
     "text": [
      "(72934, 30)\n",
      "[  0   0   0   0   0   0   0   0   0   0   0   0   0   0  32 112 101 100\n",
      " 114 111  32 106  32  32 110 105 101 118 101 115]\n"
     ]
    }
   ],
   "source": [
    "max_length = 30\n",
    "X_train = sequence.pad_sequences(X_train, maxlen=max_length)\n",
    "X_test = sequence.pad_sequences(X_test, maxlen=max_length)\n",
    "\n",
    "print(X_train.shape)\n",
    "\n",
    "print(X_train[1])"
   ]
  },
  {
   "cell_type": "code",
   "execution_count": 326,
   "metadata": {},
   "outputs": [
    {
     "name": "stderr",
     "output_type": "stream",
     "text": [
      "C:\\Users\\abc\\Anaconda3\\lib\\site-packages\\ipykernel_launcher.py:3: FutureWarning: reshape is deprecated and will raise in a subsequent release. Please use .values.reshape(...) instead\n",
      "  This is separate from the ipykernel package so we can avoid doing imports until\n",
      "C:\\Users\\abc\\Anaconda3\\lib\\site-packages\\ipykernel_launcher.py:4: FutureWarning: reshape is deprecated and will raise in a subsequent release. Please use .values.reshape(...) instead\n",
      "  after removing the cwd from sys.path.\n"
     ]
    }
   ],
   "source": [
    "X_train=X_train.reshape((72934,30,1))\n",
    "X_test=X_test.reshape((31258,30,1))\n",
    "Y_train=Y_train.reshape((72934,1))\n",
    "Y_test=Y_test.reshape((31258,1))    "
   ]
  },
  {
   "cell_type": "code",
   "execution_count": 329,
   "metadata": {},
   "outputs": [
    {
     "name": "stdout",
     "output_type": "stream",
     "text": [
      "_________________________________________________________________\n",
      "Layer (type)                 Output Shape              Param #   \n",
      "=================================================================\n",
      "lstm_23 (LSTM)               (None, 30, 128)           66560     \n",
      "_________________________________________________________________\n",
      "dropout_23 (Dropout)         (None, 30, 128)           0         \n",
      "_________________________________________________________________\n",
      "lstm_24 (LSTM)               (None, 128)               131584    \n",
      "_________________________________________________________________\n",
      "dropout_24 (Dropout)         (None, 128)               0         \n",
      "_________________________________________________________________\n",
      "dense_22 (Dense)             (None, 2)                 258       \n",
      "_________________________________________________________________\n",
      "dense_23 (Dense)             (None, 4)                 12        \n",
      "=================================================================\n",
      "Total params: 198,414\n",
      "Trainable params: 198,414\n",
      "Non-trainable params: 0\n",
      "_________________________________________________________________\n",
      "None\n"
     ]
    }
   ],
   "source": [
    "model = Sequential()\n",
    "model.add(LSTM(128, return_sequences=True,input_shape=(30,1)))\n",
    "model.add(Dropout(0.4))\n",
    "model.add(LSTM(128, return_sequences=False))\n",
    "model.add(Dropout(0.4))\n",
    "model.add(Dense(2))\n",
    "model.add(Dense(4, activation='softmax'))\n",
    "model.compile(loss='sparse_categorical_crossentropy', optimizer='adam', metrics=['accuracy'])\n",
    "print(model.summary())"
   ]
  },
  {
   "cell_type": "code",
   "execution_count": 330,
   "metadata": {},
   "outputs": [
    {
     "name": "stdout",
     "output_type": "stream",
     "text": [
      "Train on 72934 samples, validate on 31258 samples\n",
      "Epoch 1/10\n",
      "72934/72934 [==============================] - 327s 4ms/step - loss: 0.5312 - acc: 0.8303 - val_loss: 0.1925 - val_acc: 0.9504\n",
      "Epoch 2/10\n",
      "72934/72934 [==============================] - 343s 5ms/step - loss: 0.3848 - acc: 0.9016 - val_loss: 0.1913 - val_acc: 0.9519\n",
      "Epoch 3/10\n",
      "72934/72934 [==============================] - 386s 5ms/step - loss: 0.1999 - acc: 0.9502 - val_loss: 0.1827 - val_acc: 0.9514\n",
      "Epoch 4/10\n",
      "72934/72934 [==============================] - 388s 5ms/step - loss: 0.1898 - acc: 0.9517 - val_loss: 0.1757 - val_acc: 0.9533\n",
      "Epoch 5/10\n",
      "72934/72934 [==============================] - 387s 5ms/step - loss: 0.1871 - acc: 0.9522 - val_loss: 0.1750 - val_acc: 0.9532\n",
      "Epoch 6/10\n",
      "72934/72934 [==============================] - 338s 5ms/step - loss: 0.1833 - acc: 0.9527 - val_loss: 0.1763 - val_acc: 0.9528\n",
      "Epoch 7/10\n",
      "72934/72934 [==============================] - 287s 4ms/step - loss: 0.1827 - acc: 0.9528 - val_loss: 0.1716 - val_acc: 0.9555\n",
      "Epoch 8/10\n",
      "72934/72934 [==============================] - 287s 4ms/step - loss: 0.1802 - acc: 0.9536 - val_loss: 0.1706 - val_acc: 0.9547\n",
      "Epoch 9/10\n",
      "72934/72934 [==============================] - 284s 4ms/step - loss: 0.1787 - acc: 0.9535 - val_loss: 0.1740 - val_acc: 0.9527\n",
      "Epoch 10/10\n",
      "72934/72934 [==============================] - 333s 5ms/step - loss: 0.1769 - acc: 0.9538 - val_loss: 0.1688 - val_acc: 0.9553\n"
     ]
    }
   ],
   "source": [
    "hist1=model.fit(X_train, Y_train, validation_data=(X_test, Y_test), epochs=10, batch_size=1000)"
   ]
  },
  {
   "cell_type": "code",
   "execution_count": 331,
   "metadata": {},
   "outputs": [
    {
     "name": "stdout",
     "output_type": "stream",
     "text": [
      "Accuracy: 95.53%\n"
     ]
    }
   ],
   "source": [
    "scores = model.evaluate(X_test, Y_test, verbose=0)\n",
    "print(\"Accuracy: %.2f%%\" % (scores[1]*100))"
   ]
  },
  {
   "cell_type": "code",
   "execution_count": 332,
   "metadata": {},
   "outputs": [
    {
     "data": {
      "image/png": "[encoded data removed]",
      "text/plain": [
       "<Figure size 720x360 with 1 Axes>"
      ]
     },
     "metadata": {},
     "output_type": "display_data"
    }
   ],
   "source": [
    "x = list(range(1,11))\n",
    "\n",
    "# Validation loss\n",
    "vy = hist.history['val_loss']\n",
    "# Training loss\n",
    "ty = hist.history['loss']\n",
    "\n",
    "# Calling the function to draw the plot\n",
    "plt_dynamic(x, vy, ty)"
   ]
  },
  {
   "cell_type": "code",
   "execution_count": 339,
   "metadata": {},
   "outputs": [],
   "source": [
    "name=\"Narendra Modi\"\n",
    "X=[]\n",
    "X1=[]\n",
    "for char in name:\n",
    "    X.append(ord(char))\n",
    "for k in range(max_length-len(X)):\n",
    "    X1.append(0)\n",
    "X=X1+X    \n",
    "X=np.array(X)"
   ]
  },
  {
   "cell_type": "code",
   "execution_count": 342,
   "metadata": {},
   "outputs": [],
   "source": [
    "X=X.reshape((1,30,1))"
   ]
  },
  {
   "cell_type": "code",
   "execution_count": 343,
   "metadata": {},
   "outputs": [],
   "source": [
    "pred=model.predict(np.asarray(X))"
   ]
  },
  {
   "cell_type": "code",
   "execution_count": 349,
   "metadata": {},
   "outputs": [
    {
     "data": {
      "text/plain": [
       "array([[  9.99529004e-01,   2.92504206e-04,   1.19638827e-07,\n",
       "          1.78424190e-04]], dtype=float32)"
      ]
     },
     "execution_count": 349,
     "metadata": {},
     "output_type": "execute_result"
    }
   ],
   "source": [
    "pred"
   ]
  },
  {
   "cell_type": "code",
   "execution_count": 345,
   "metadata": {},
   "outputs": [
    {
     "data": {
      "text/plain": [
       "array([0], dtype=int64)"
      ]
     },
     "execution_count": 345,
     "metadata": {},
     "output_type": "execute_result"
    }
   ],
   "source": [
    "model.predict_classes(np.asarray(X))"
   ]
  },
  {
   "cell_type": "code",
   "execution_count": null,
   "metadata": {
    "collapsed": true
   },
   "outputs": [],
   "source": []
  }
 ],
 "metadata": {
  "kernelspec": {
   "display_name": "Python 3",
   "language": "python",
   "name": "python3"
  },
  "language_info": {
   "codemirror_mode": {
    "name": "ipython",
    "version": 3
   },
   "file_extension": ".py",
   "mimetype": "text/x-python",
   "name": "python",
   "nbconvert_exporter": "python",
   "pygments_lexer": "ipython3",
   "version": "3.6.3"
  }
 },
 "nbformat": 4,
 "nbformat_minor": 2
}
